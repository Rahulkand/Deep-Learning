{
 "cells": [
  {
   "cell_type": "code",
   "execution_count": 39,
   "metadata": {},
   "outputs": [],
   "source": [
    "import torch\n",
    "import torch.nn as nn\n",
    "import matplotlib.pyplot as plt\n",
    "import numpy as np\n",
    "from sklearn.datasets import load_breast_cancer\n",
    "from sklearn.model_selection import train_test_split"
   ]
  },
  {
   "cell_type": "code",
   "execution_count": 79,
   "metadata": {},
   "outputs": [],
   "source": [
    "data = load_breast_cancer()\n",
    "X = data[\"data\"]\n",
    "y = data[\"target\"]\n"
   ]
  },
  {
   "cell_type": "code",
   "execution_count": 83,
   "metadata": {},
   "outputs": [
    {
     "name": "stdout",
     "output_type": "stream",
     "text": [
      "       0      1       2       3        4        5        6        7       8   \\\n",
      "0   17.99  10.38  122.80  1001.0  0.11840  0.27760  0.30010  0.14710  0.2419   \n",
      "0   20.57  17.77  132.90  1326.0  0.08474  0.07864  0.08690  0.07017  0.1812   \n",
      "0   19.69  21.25  130.00  1203.0  0.10960  0.15990  0.19740  0.12790  0.2069   \n",
      "0   11.42  20.38   77.58   386.1  0.14250  0.28390  0.24140  0.10520  0.2597   \n",
      "0   20.29  14.34  135.10  1297.0  0.10030  0.13280  0.19800  0.10430  0.1809   \n",
      "..    ...    ...     ...     ...      ...      ...      ...      ...     ...   \n",
      "0   21.56  22.39  142.00  1479.0  0.11100  0.11590  0.24390  0.13890  0.1726   \n",
      "0   20.13  28.25  131.20  1261.0  0.09780  0.10340  0.14400  0.09791  0.1752   \n",
      "0   16.60  28.08  108.30   858.1  0.08455  0.10230  0.09251  0.05302  0.1590   \n",
      "0   20.60  29.33  140.10  1265.0  0.11780  0.27700  0.35140  0.15200  0.2397   \n",
      "1    7.76  24.54   47.92   181.0  0.05263  0.04362  0.00000  0.00000  0.1587   \n",
      "\n",
      "         9   ...      20     21      22      23       24       25      26  \\\n",
      "0   0.07871  ...  25.380  17.33  184.60  2019.0  0.16220  0.66560  0.7119   \n",
      "0   0.05667  ...  24.990  23.41  158.80  1956.0  0.12380  0.18660  0.2416   \n",
      "0   0.05999  ...  23.570  25.53  152.50  1709.0  0.14440  0.42450  0.4504   \n",
      "0   0.09744  ...  14.910  26.50   98.87   567.7  0.20980  0.86630  0.6869   \n",
      "0   0.05883  ...  22.540  16.67  152.20  1575.0  0.13740  0.20500  0.4000   \n",
      "..      ...  ...     ...    ...     ...     ...      ...      ...     ...   \n",
      "0   0.05623  ...  25.450  26.40  166.10  2027.0  0.14100  0.21130  0.4107   \n",
      "0   0.05533  ...  23.690  38.25  155.00  1731.0  0.11660  0.19220  0.3215   \n",
      "0   0.05648  ...  18.980  34.12  126.70  1124.0  0.11390  0.30940  0.3403   \n",
      "0   0.07016  ...  25.740  39.42  184.60  1821.0  0.16500  0.86810  0.9387   \n",
      "1   0.05884  ...   9.456  30.37   59.16   268.6  0.08996  0.06444  0.0000   \n",
      "\n",
      "        27      28       29  \n",
      "0   0.2654  0.4601  0.11890  \n",
      "0   0.1860  0.2750  0.08902  \n",
      "0   0.2430  0.3613  0.08758  \n",
      "0   0.2575  0.6638  0.17300  \n",
      "0   0.1625  0.2364  0.07678  \n",
      "..     ...     ...      ...  \n",
      "0   0.2216  0.2060  0.07115  \n",
      "0   0.1628  0.2572  0.06637  \n",
      "0   0.1418  0.2218  0.07820  \n",
      "0   0.2650  0.4087  0.12400  \n",
      "1   0.0000  0.2871  0.07039  \n",
      "\n",
      "[569 rows x 30 columns]\n"
     ]
    }
   ],
   "source": [
    "import pandas as pd\n",
    "df = pd.DataFrame(X,y)\n",
    "print(df)"
   ]
  },
  {
   "cell_type": "code",
   "execution_count": 87,
   "metadata": {},
   "outputs": [
    {
     "name": "stdout",
     "output_type": "stream",
     "text": [
      "tensor([[1.7990e+01, 1.0380e+01, 1.2280e+02,  ..., 2.6540e-01, 4.6010e-01,\n",
      "         1.1890e-01],\n",
      "        [2.0570e+01, 1.7770e+01, 1.3290e+02,  ..., 1.8600e-01, 2.7500e-01,\n",
      "         8.9020e-02],\n",
      "        [1.9690e+01, 2.1250e+01, 1.3000e+02,  ..., 2.4300e-01, 3.6130e-01,\n",
      "         8.7580e-02],\n",
      "        ...,\n",
      "        [1.6600e+01, 2.8080e+01, 1.0830e+02,  ..., 1.4180e-01, 2.2180e-01,\n",
      "         7.8200e-02],\n",
      "        [2.0600e+01, 2.9330e+01, 1.4010e+02,  ..., 2.6500e-01, 4.0870e-01,\n",
      "         1.2400e-01],\n",
      "        [7.7600e+00, 2.4540e+01, 4.7920e+01,  ..., 0.0000e+00, 2.8710e-01,\n",
      "         7.0390e-02]])\n"
     ]
    }
   ],
   "source": [
    "X_tensor =  torch.from_numpy(X).float()\n",
    "y_tensor = torch.from_numpy(y).float()\n",
    "print(X_tensor)"
   ]
  },
  {
   "cell_type": "code",
   "execution_count": 88,
   "metadata": {},
   "outputs": [
    {
     "name": "stdout",
     "output_type": "stream",
     "text": [
      "Train data set is of size : torch.Size([455, 30])\n",
      "Train data set is of size : torch.Size([114, 30])\n",
      "tensor([[1.2470e+01, 1.8600e+01, 8.1090e+01,  ..., 1.0150e-01, 3.0140e-01,\n",
      "         8.7500e-02],\n",
      "        [1.8940e+01, 2.1310e+01, 1.2360e+02,  ..., 1.7890e-01, 2.5510e-01,\n",
      "         6.5890e-02],\n",
      "        [1.5460e+01, 1.9480e+01, 1.0170e+02,  ..., 1.5140e-01, 2.8370e-01,\n",
      "         8.0190e-02],\n",
      "        ...,\n",
      "        [1.1520e+01, 1.4930e+01, 7.3870e+01,  ..., 9.6080e-02, 2.6640e-01,\n",
      "         7.8090e-02],\n",
      "        [1.4220e+01, 2.7850e+01, 9.2550e+01,  ..., 8.2190e-02, 1.8900e-01,\n",
      "         7.7960e-02],\n",
      "        [2.0730e+01, 3.1120e+01, 1.3570e+02,  ..., 1.6590e-01, 2.8680e-01,\n",
      "         8.2180e-02]]) tensor([1., 0., 0., 1., 1., 0., 0., 0., 1., 1., 1., 0., 1., 0., 1., 0., 1., 1.,\n",
      "        1., 0., 0., 1., 0., 1., 1., 1., 1., 1., 1., 0., 1., 1., 1., 1., 1., 1.,\n",
      "        0., 1., 0., 1., 1., 0., 1., 1., 1., 1., 1., 1., 1., 1., 0., 0., 1., 1.,\n",
      "        1., 1., 1., 0., 0., 1., 1., 0., 0., 1., 1., 1., 0., 0., 1., 1., 0., 0.,\n",
      "        1., 0., 1., 1., 1., 0., 1., 1., 0., 1., 0., 0., 0., 0., 0., 0., 1., 1.,\n",
      "        1., 1., 1., 1., 1., 1., 0., 0., 1., 0., 0., 1., 0., 0., 1., 1., 1., 0.,\n",
      "        1., 1., 0., 1., 1., 0.])\n"
     ]
    }
   ],
   "source": [
    "X_train,X_test,y_train,y_test = train_test_split(X_tensor,y_tensor,test_size=0.2,random_state=42)\n",
    "print(f\"Train data set is of size : {X_train.shape}\")\n",
    "print(f\"Train data set is of size : {X_test.shape}\")\n",
    "print(X_test,y_test)"
   ]
  },
  {
   "cell_type": "code",
   "execution_count": 118,
   "metadata": {},
   "outputs": [],
   "source": [
    "class CancerDetectionModel(nn.Module):\n",
    "    def __init__(self):\n",
    "        super().__init__()\n",
    "        self.layer_1 = nn.Linear(in_features=30,out_features=100)\n",
    "        self.layer_2 = nn.Linear(in_features=100,out_features=50)\n",
    "        self.layer_3 = nn.Linear(in_features=50,out_features=1)\n",
    "        self.relu  = nn.ReLU()\n",
    "    def forward(self,x:torch.tensor):\n",
    "        return self.layer_3(self.relu(self.layer_2(self.relu(self.layer_1(x)))))\n",
    "\n"
   ]
  },
  {
   "cell_type": "code",
   "execution_count": 119,
   "metadata": {},
   "outputs": [
    {
     "data": {
      "text/plain": [
       "OrderedDict([('layer_1.weight',\n",
       "              tensor([[-0.1721, -0.1249, -0.0917,  ...,  0.1218,  0.0498, -0.0784],\n",
       "                      [ 0.1288,  0.1171,  0.1571,  ..., -0.0786,  0.0444,  0.0440],\n",
       "                      [ 0.1486,  0.1023,  0.0429,  ..., -0.1425,  0.0864, -0.0563],\n",
       "                      ...,\n",
       "                      [ 0.1066,  0.1098, -0.0088,  ..., -0.0159, -0.1708,  0.0928],\n",
       "                      [ 0.0151,  0.0770, -0.0018,  ...,  0.0336, -0.1062, -0.1439],\n",
       "                      [ 0.0849, -0.0785,  0.0684,  ..., -0.1378,  0.0272,  0.0528]])),\n",
       "             ('layer_1.bias',\n",
       "              tensor([ 0.0424,  0.1136,  0.1173, -0.1591,  0.0860,  0.1134, -0.0922, -0.1139,\n",
       "                      -0.1640, -0.1801,  0.0954,  0.0519, -0.0992, -0.1632, -0.1697,  0.1657,\n",
       "                       0.0601,  0.0298, -0.0151,  0.0745,  0.0198,  0.0788,  0.0466, -0.0941,\n",
       "                      -0.0853,  0.0481,  0.0463,  0.1289, -0.1351,  0.0887, -0.1675,  0.0156,\n",
       "                      -0.1482, -0.0898, -0.1044,  0.1629,  0.1625, -0.0810, -0.0077, -0.1530,\n",
       "                      -0.1496, -0.0924,  0.0178, -0.1643, -0.0380,  0.0252,  0.0021, -0.0058,\n",
       "                       0.0329,  0.1806, -0.1559, -0.1317,  0.0954,  0.0559,  0.1551,  0.1453,\n",
       "                      -0.1356, -0.0415, -0.1644,  0.0736,  0.1090, -0.1448, -0.0994,  0.0975,\n",
       "                       0.0445, -0.1141, -0.0009, -0.1214,  0.0708,  0.0338,  0.0496, -0.0086,\n",
       "                       0.0099, -0.1354,  0.1704, -0.0075,  0.0051,  0.0165, -0.1717,  0.0472,\n",
       "                       0.1572,  0.1062,  0.0254,  0.0530,  0.0324,  0.0005,  0.0799,  0.0601,\n",
       "                       0.0593, -0.1101, -0.0222,  0.1138,  0.1202, -0.1028,  0.0596, -0.1218,\n",
       "                       0.0476,  0.0634, -0.1099,  0.1355])),\n",
       "             ('layer_2.weight',\n",
       "              tensor([[ 0.0714,  0.0718,  0.0274,  ...,  0.0631,  0.0773, -0.0054],\n",
       "                      [ 0.0942,  0.0529, -0.0612,  ...,  0.0579,  0.0485, -0.0269],\n",
       "                      [-0.0834, -0.0139, -0.0187,  ...,  0.0829,  0.0987,  0.0305],\n",
       "                      ...,\n",
       "                      [ 0.0390,  0.0889, -0.0184,  ..., -0.0010, -0.0211,  0.0184],\n",
       "                      [ 0.0752,  0.0944,  0.0412,  ...,  0.0395, -0.0247,  0.0909],\n",
       "                      [ 0.0361,  0.0990, -0.0348,  ...,  0.0153,  0.0700,  0.0521]])),\n",
       "             ('layer_2.bias',\n",
       "              tensor([-0.0833,  0.0786, -0.0260, -0.0189, -0.0426, -0.0173, -0.0934,  0.0077,\n",
       "                       0.0754, -0.0200,  0.0769, -0.0452,  0.0404,  0.0099, -0.0388,  0.0975,\n",
       "                       0.0082,  0.0045, -0.0108, -0.0054,  0.0806, -0.0152,  0.0601,  0.0363,\n",
       "                       0.0652, -0.0758, -0.0876, -0.0328, -0.0279,  0.0953,  0.0985, -0.0238,\n",
       "                      -0.0479, -0.0004,  0.0383,  0.0342,  0.0189,  0.0734,  0.0106,  0.0809,\n",
       "                       0.0244, -0.0089,  0.0833,  0.0033,  0.0040, -0.0193,  0.0587, -0.0297,\n",
       "                       0.0780,  0.0534])),\n",
       "             ('layer_3.weight',\n",
       "              tensor([[-0.0023, -0.0232,  0.0554, -0.1381, -0.0468, -0.0500, -0.0173, -0.0677,\n",
       "                       -0.0611,  0.0673, -0.0150, -0.0980, -0.0102,  0.0457, -0.0573,  0.1203,\n",
       "                       -0.0982,  0.1231,  0.0544, -0.0813, -0.1339,  0.0552, -0.0264,  0.0419,\n",
       "                        0.0604, -0.0959,  0.0166, -0.0301, -0.1273,  0.0250,  0.0302, -0.1082,\n",
       "                        0.1330,  0.0742,  0.0804, -0.1232, -0.1222,  0.0611,  0.0817, -0.1213,\n",
       "                        0.1358, -0.0312, -0.1147, -0.1038, -0.0328,  0.0744, -0.0975,  0.1042,\n",
       "                        0.1413,  0.1329]])),\n",
       "             ('layer_3.bias', tensor([0.0644]))])"
      ]
     },
     "execution_count": 119,
     "metadata": {},
     "output_type": "execute_result"
    }
   ],
   "source": [
    "model_0 = CancerDetectionModel()\n",
    "model_0.state_dict()"
   ]
  },
  {
   "cell_type": "code",
   "execution_count": 120,
   "metadata": {},
   "outputs": [],
   "source": [
    "def accuracy_fn(y_true,y_pred):\n",
    "    correct = torch.eq(y_true,y_pred).sum().item()\n",
    "    acc = (correct/len(y_pred)) * 100\n",
    "    return acc"
   ]
  },
  {
   "cell_type": "code",
   "execution_count": 121,
   "metadata": {},
   "outputs": [],
   "source": [
    "optimizer = torch.optim.SGD(params=model_0.parameters(),lr=0.001)\n",
    "loss_fn = nn.BCEWithLogitsLoss()"
   ]
  },
  {
   "cell_type": "code",
   "execution_count": 123,
   "metadata": {},
   "outputs": [
    {
     "name": "stdout",
     "output_type": "stream",
     "text": [
      "Epoch : 0 | Train Loss : 0.21180, Train Acc : 91.43 % | Test Loss : 0.13268, Test Acc : 95.61 % \n",
      "Epoch : 100 | Train Loss : 0.22062, Train Acc : 91.65 % | Test Loss : 0.13840, Test Acc : 93.86 % \n",
      "Epoch : 200 | Train Loss : 0.22730, Train Acc : 90.77 % | Test Loss : 0.14813, Test Acc : 92.11 % \n",
      "Epoch : 300 | Train Loss : 0.21399, Train Acc : 91.43 % | Test Loss : 0.13790, Test Acc : 93.86 % \n",
      "Epoch : 400 | Train Loss : 0.20189, Train Acc : 92.09 % | Test Loss : 0.12523, Test Acc : 95.61 % \n",
      "Epoch : 500 | Train Loss : 0.19807, Train Acc : 92.09 % | Test Loss : 0.12090, Test Acc : 95.61 % \n",
      "Epoch : 600 | Train Loss : 0.19588, Train Acc : 92.31 % | Test Loss : 0.11796, Test Acc : 95.61 % \n",
      "Epoch : 700 | Train Loss : 0.22258, Train Acc : 90.99 % | Test Loss : 0.14586, Test Acc : 92.11 % \n",
      "Epoch : 800 | Train Loss : 0.19602, Train Acc : 92.09 % | Test Loss : 0.12065, Test Acc : 94.74 % \n",
      "Epoch : 900 | Train Loss : 0.19141, Train Acc : 92.31 % | Test Loss : 0.11736, Test Acc : 95.61 % \n"
     ]
    }
   ],
   "source": [
    "torch.manual_seed(42)\n",
    "epochs = 1000\n",
    "for epoch in range(epochs):\n",
    "    model_0.train()\n",
    "    y_logits = model_0.forward(X_train).squeeze()\n",
    "    y_preds = torch.round(torch.sigmoid(y_logits)) \n",
    "    loss = loss_fn(y_logits,y_train)\n",
    "    acc = accuracy_fn(y_train,y_preds)\n",
    "    optimizer.zero_grad()\n",
    "    loss.backward()\n",
    "    optimizer.step()\n",
    "    with torch.inference_mode():\n",
    "        test_logits = model_0.forward(X_test).squeeze()\n",
    "        test_preds = torch.round(torch.sigmoid(test_logits))\n",
    "\n",
    "        test_loss = loss_fn(test_logits,y_test)\n",
    "        test_acc = accuracy_fn(y_test,test_preds) \n",
    "    if(epoch % 100 == 0):\n",
    "        print(f\"Epoch : {epoch} | Train Loss : {loss:.5f}, Train Acc : {acc:.2f} % | Test Loss : {test_loss:.5f}, Test Acc : {test_acc:.2f} % \")\n"
   ]
  },
  {
   "cell_type": "code",
   "execution_count": 125,
   "metadata": {},
   "outputs": [
    {
     "name": "stdout",
     "output_type": "stream",
     "text": [
      "Saving mode to : D:\\Computer Vision\\Pytorch\\models\\Breast Cancer Classification.pth\n"
     ]
    }
   ],
   "source": [
    "from pathlib import Path\n",
    "MODEL_PATH = Path(\"D:\\Computer Vision\\Pytorch\\models\")\n",
    "MODEL_PATH.mkdir(parents=True,exist_ok=True)\n",
    " \n",
    "MODEL_NAME =  \"Breast Cancer Classification.pth\"\n",
    "MODEL_SAVE_PATH =  MODEL_PATH/MODEL_NAME\n",
    "\n",
    "print(f\"Saving mode to : {MODEL_SAVE_PATH}\")\n",
    "torch.save(obj=model_0.state_dict(),f=MODEL_SAVE_PATH)"
   ]
  },
  {
   "cell_type": "code",
   "execution_count": null,
   "metadata": {},
   "outputs": [],
   "source": []
  }
 ],
 "metadata": {
  "kernelspec": {
   "display_name": "Python 3",
   "language": "python",
   "name": "python3"
  },
  "language_info": {
   "codemirror_mode": {
    "name": "ipython",
    "version": 3
   },
   "file_extension": ".py",
   "mimetype": "text/x-python",
   "name": "python",
   "nbconvert_exporter": "python",
   "pygments_lexer": "ipython3",
   "version": "3.9.1"
  },
  "orig_nbformat": 4
 },
 "nbformat": 4,
 "nbformat_minor": 2
}
