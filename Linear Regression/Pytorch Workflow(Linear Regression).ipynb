{
 "cells": [
  {
   "cell_type": "code",
   "execution_count": 1,
   "id": "20bb86bb",
   "metadata": {},
   "outputs": [
    {
     "name": "stderr",
     "output_type": "stream",
     "text": [
      "c:\\Users\\DELL\\AppData\\Local\\Programs\\Python\\Python39\\lib\\site-packages\\tqdm\\auto.py:22: TqdmWarning: IProgress not found. Please update jupyter and ipywidgets. See https://ipywidgets.readthedocs.io/en/stable/user_install.html\n",
      "  from .autonotebook import tqdm as notebook_tqdm\n"
     ]
    }
   ],
   "source": [
    "# pytorch workflow\n",
    "# Resources\n",
    "import os    \n",
    "os.environ['KMP_DUPLICATE_LIB_OK'] = 'True'\n",
    "import torch\n",
    "# nn contains the building block for neural networks layers\n",
    "from torch import nn\n",
    "import matplotlib.pyplot as plt"
   ]
  },
  {
   "cell_type": "code",
   "execution_count": 2,
   "id": "6fbbd4b1",
   "metadata": {},
   "outputs": [],
   "source": [
    "# Data preparing and loading\n",
    "# Excel spreadsheet\n",
    "# Images\n",
    "# Videos\n",
    "# Audio\n",
    "# Text\n",
    "# ML is a game of two parts\n",
    "# Numberical representation\n",
    "# Finding patters"
   ]
  },
  {
   "cell_type": "code",
   "execution_count": 3,
   "id": "b88e4bf6",
   "metadata": {},
   "outputs": [],
   "source": [
    "# Linear Regression \n",
    "# y=mx+c m is weigth and c is the bias\n",
    "# know weight and bias(Parameters)\n",
    "weigth = 0.7\n",
    "bias = 0.3\n",
    "\n",
    "X = torch.arange(0,1,0.02).unsqueeze(dim=1)\n",
    "y = weigth*X + bias"
   ]
  },
  {
   "cell_type": "code",
   "execution_count": 4,
   "id": "d61d031a",
   "metadata": {},
   "outputs": [
    {
     "data": {
      "text/plain": [
       "tensor([[0.8600],\n",
       "        [0.8740],\n",
       "        [0.8880],\n",
       "        [0.9020],\n",
       "        [0.9160],\n",
       "        [0.9300],\n",
       "        [0.9440],\n",
       "        [0.9580],\n",
       "        [0.9720],\n",
       "        [0.9860]])"
      ]
     },
     "execution_count": 4,
     "metadata": {},
     "output_type": "execute_result"
    }
   ],
   "source": [
    "# Spliting data into training and testing\n",
    "train_split = int(len(X)*0.8)\n",
    "X_train , Y_train = X[:train_split],y[:train_split]\n",
    "X_test, Y_test = X[train_split:],y[train_split:]\n",
    "len(X_train),len(Y_train),len(X_test),len(Y_test)\n",
    "Y_test"
   ]
  },
  {
   "cell_type": "code",
   "execution_count": 5,
   "id": "db531d08",
   "metadata": {},
   "outputs": [
    {
     "data": {
      "image/png": "[encoded data removed]",
      "text/plain": [
       "<Figure size 1000x700 with 1 Axes>"
      ]
     },
     "metadata": {},
     "output_type": "display_data"
    }
   ],
   "source": [
    "# Visualization\n",
    "def plot_predictions(train_data=X_train,\n",
    "                     train_label=Y_train,\n",
    "                     test_data = X_test,\n",
    "                     test_labels = Y_test,\n",
    "                     prediction = None):\n",
    "    plt.figure(figsize=(10,7)) \n",
    "    plt.scatter(train_data,train_label,c=\"b\",s=4,label=\"Training Data\")\n",
    "    plt.scatter(test_data,test_labels,c=\"g\",s=4,label=\"Test Data\")\n",
    "    if(prediction!=None):\n",
    "        plt.scatter(test_data,prediction,c=\"r\",s=4,label=\"Predictions\")\n",
    "    plt.legend(prop={\"size\":14});\n",
    "plot_predictions()"
   ]
  },
  {
   "cell_type": "code",
   "execution_count": 6,
   "id": "56c0c902",
   "metadata": {
    "scrolled": true
   },
   "outputs": [],
   "source": [
    "# Build a model(Pytorch model)\n",
    "class LinearRegression(nn.Module):\n",
    "    def __init__(self):\n",
    "        super().__init__()\n",
    "        self.weights = nn.Parameter(torch.randn(1,dtype = torch.float,requires_grad = True))\n",
    "        self.bias = nn.Parameter(torch.randn(1,dtype = torch.float,requires_grad = True))\n",
    "#   forward metod to define the computaion in the model\n",
    "    def forward(self,x: torch.tensor):\n",
    "        return self.weights * x + self.bias\n",
    "        "
   ]
  },
  {
   "cell_type": "code",
   "execution_count": 7,
   "id": "4f074366",
   "metadata": {},
   "outputs": [
    {
     "data": {
      "text/plain": [
       "[Parameter containing:\n",
       " tensor([0.0589], requires_grad=True),\n",
       " Parameter containing:\n",
       " tensor([-1.3945], requires_grad=True)]"
      ]
     },
     "execution_count": 7,
     "metadata": {},
     "output_type": "execute_result"
    }
   ],
   "source": [
    "torch.manual_seed(44)\n",
    "model = LinearRegression()\n",
    "list(model.parameters())"
   ]
  },
  {
   "cell_type": "code",
   "execution_count": 8,
   "id": "cca7a5e4",
   "metadata": {},
   "outputs": [
    {
     "data": {
      "text/plain": [
       "OrderedDict([('weights', tensor([0.0589])), ('bias', tensor([-1.3945]))])"
      ]
     },
     "execution_count": 8,
     "metadata": {},
     "output_type": "execute_result"
    }
   ],
   "source": [
    "# List named parameter\n",
    "model.state_dict()"
   ]
  },
  {
   "cell_type": "code",
   "execution_count": 9,
   "id": "78f1f94b",
   "metadata": {},
   "outputs": [
    {
     "data": {
      "text/plain": [
       "(0.7, 0.3)"
      ]
     },
     "execution_count": 9,
     "metadata": {},
     "output_type": "execute_result"
    }
   ],
   "source": [
    "weigth ,bias"
   ]
  },
  {
   "cell_type": "code",
   "execution_count": 10,
   "id": "44f70822",
   "metadata": {},
   "outputs": [
    {
     "data": {
      "text/plain": [
       "(tensor([[0.8000],\n",
       "         [0.8200],\n",
       "         [0.8400],\n",
       "         [0.8600],\n",
       "         [0.8800],\n",
       "         [0.9000],\n",
       "         [0.9200],\n",
       "         [0.9400],\n",
       "         [0.9600],\n",
       "         [0.9800]]),\n",
       " tensor([[0.8600],\n",
       "         [0.8740],\n",
       "         [0.8880],\n",
       "         [0.9020],\n",
       "         [0.9160],\n",
       "         [0.9300],\n",
       "         [0.9440],\n",
       "         [0.9580],\n",
       "         [0.9720],\n",
       "         [0.9860]]))"
      ]
     },
     "execution_count": 10,
     "metadata": {},
     "output_type": "execute_result"
    }
   ],
   "source": [
    "X_test,Y_test"
   ]
  },
  {
   "cell_type": "code",
   "execution_count": 11,
   "id": "a3f6c0d2",
   "metadata": {
    "scrolled": true
   },
   "outputs": [
    {
     "data": {
      "text/plain": [
       "tensor([[-1.3473],\n",
       "        [-1.3461],\n",
       "        [-1.3449],\n",
       "        [-1.3438],\n",
       "        [-1.3426],\n",
       "        [-1.3414],\n",
       "        [-1.3402],\n",
       "        [-1.3391],\n",
       "        [-1.3379],\n",
       "        [-1.3367]])"
      ]
     },
     "execution_count": 11,
     "metadata": {},
     "output_type": "execute_result"
    }
   ],
   "source": [
    "# Making predictions using \"torch.inference_mode()\"\n",
    "# disables the gradient\n",
    "with torch.inference_mode():\n",
    "    y_preds = model.forward(X_test)\n",
    "y_preds"
   ]
  },
  {
   "cell_type": "code",
   "execution_count": 12,
   "id": "ef938fe0",
   "metadata": {},
   "outputs": [
    {
     "data": {
      "image/png": "[encoded data removed]",
      "text/plain": [
       "<Figure size 1000x700 with 1 Axes>"
      ]
     },
     "metadata": {},
     "output_type": "display_data"
    }
   ],
   "source": [
    "plot_predictions(prediction=y_preds)"
   ]
  },
  {
   "cell_type": "code",
   "execution_count": 13,
   "id": "0e8342e9",
   "metadata": {},
   "outputs": [],
   "source": [
    "# Training Model\n",
    "\n",
    "# Setup a loss function\n",
    "loss_fn = nn.L1Loss()\n",
    "\n",
    "# setup optimizer\n",
    "optimizer = torch.optim.SGD(params=model.parameters(),lr=0.01)"
   ]
  },
  {
   "cell_type": "code",
   "execution_count": 14,
   "id": "7b556d6f",
   "metadata": {},
   "outputs": [
    {
     "data": {
      "text/plain": [
       "OrderedDict([('weights', tensor([0.7084])), ('bias', tensor([0.2930]))])"
      ]
     },
     "execution_count": 14,
     "metadata": {},
     "output_type": "execute_result"
    }
   ],
   "source": [
    "# Build a training loop\n",
    "epochs = 100000\n",
    "for epoch in range(epochs):\n",
    "    model.train()\n",
    "    y_train_preds = model.forward(X_train)\n",
    "    loss = loss_fn(y_train_preds,Y_train)\n",
    "    optimizer.zero_grad()\n",
    "    loss.backward()\n",
    "    optimizer.step()\n",
    "model.state_dict()"
   ]
  },
  {
   "cell_type": "code",
   "execution_count": 15,
   "id": "f736df3c",
   "metadata": {},
   "outputs": [
    {
     "data": {
      "text/plain": [
       "tensor(0.0078, grad_fn=<MeanBackward0>)"
      ]
     },
     "execution_count": 15,
     "metadata": {},
     "output_type": "execute_result"
    }
   ],
   "source": [
    "loss"
   ]
  },
  {
   "cell_type": "code",
   "execution_count": 16,
   "id": "49710dd1",
   "metadata": {},
   "outputs": [
    {
     "data": {
      "text/plain": [
       "tensor([[0.8597],\n",
       "        [0.8739],\n",
       "        [0.8881],\n",
       "        [0.9022],\n",
       "        [0.9164],\n",
       "        [0.9306],\n",
       "        [0.9447],\n",
       "        [0.9589],\n",
       "        [0.9731],\n",
       "        [0.9872]])"
      ]
     },
     "execution_count": 16,
     "metadata": {},
     "output_type": "execute_result"
    }
   ],
   "source": [
    "with torch.inference_mode():\n",
    "    y_preds_after_lr = model.forward(X_test)\n",
    "y_preds_after_lr\n"
   ]
  },
  {
   "cell_type": "code",
   "execution_count": 17,
   "id": "26fb4e43",
   "metadata": {},
   "outputs": [
    {
     "data": {
      "image/png": "[encoded data removed]",
      "text/plain": [
       "<Figure size 1000x700 with 1 Axes>"
      ]
     },
     "metadata": {},
     "output_type": "display_data"
    }
   ],
   "source": [
    "plot_predictions(prediction=y_preds_after_lr)"
   ]
  },
  {
   "attachments": {},
   "cell_type": "markdown",
   "id": "c1832dd3",
   "metadata": {},
   "source": [
    "Saving a model in Pytorch\n",
    "-> Three amin steps for saving\n",
    "1.torch.save() - in python pickel format(Serializable,Deserializable)\n",
    "2.torch.load() - load a saved pytorch object\n",
    "3.torch.mm.Module.load_state_dict() - model can be saved in the state Dictionary\n"
   ]
  },
  {
   "cell_type": "code",
   "execution_count": 19,
   "id": "6a3cb636",
   "metadata": {},
   "outputs": [
    {
     "name": "stdout",
     "output_type": "stream",
     "text": [
      "models\\Pytorch Linear Regression 01.pth\n",
      "Saving model to : models\\Pytorch Linear Regression 01.pth\n"
     ]
    }
   ],
   "source": [
    "from pathlib import Path\n",
    "# 1. Create director\n",
    "MODEL_PATH = Path(\"models\")\n",
    "MODEL_PATH.mkdir(parents=True,exist_ok=True)\n",
    "\n",
    "# 2. Model Name\n",
    "MODEL_NAME = \"Pytorch Linear Regression 01.pth\"\n",
    "MODEL_SAVE_PATH = MODEL_PATH/MODEL_NAME\n",
    "print(MODEL_SAVE_PATH)\n",
    "\n",
    "# 3. Save the Model State Dict\n",
    "print(f\"Saving model to : {MODEL_SAVE_PATH}\")\n",
    "torch.save(obj= model.state_dict(),f = MODEL_SAVE_PATH)"
   ]
  },
  {
   "cell_type": "code",
   "execution_count": 31,
   "id": "bcdb0326",
   "metadata": {},
   "outputs": [
    {
     "data": {
      "text/plain": [
       "OrderedDict([('weights', tensor([0.7084])), ('bias', tensor([0.2930]))])"
      ]
     },
     "execution_count": 31,
     "metadata": {},
     "output_type": "execute_result"
    }
   ],
   "source": [
    "loaded_model = LinearRegression()\n",
    "loaded_model.load_state_dict(torch.load(\"models/Pytorch Linear Regression 01.pth\"))\n",
    "loaded_model.state_dict()"
   ]
  },
  {
   "cell_type": "code",
   "execution_count": 33,
   "id": "0a1ea60d",
   "metadata": {},
   "outputs": [
    {
     "name": "stdout",
     "output_type": "stream",
     "text": [
      "Loaded Model Preds : tensor([[0.8597],\n",
      "        [0.8739],\n",
      "        [0.8881],\n",
      "        [0.9022],\n",
      "        [0.9164],\n",
      "        [0.9306],\n",
      "        [0.9447],\n",
      "        [0.9589],\n",
      "        [0.9731],\n",
      "        [0.9872]]) Actual Model Preds : tensor([[0.8597],\n",
      "        [0.8739],\n",
      "        [0.8881],\n",
      "        [0.9022],\n",
      "        [0.9164],\n",
      "        [0.9306],\n",
      "        [0.9447],\n",
      "        [0.9589],\n",
      "        [0.9731],\n",
      "        [0.9872]])\n"
     ]
    }
   ],
   "source": [
    "loaded_model.eval()\n",
    "with torch.inference_mode():\n",
    "    loaded_model_preds = loaded_model(X_test)\n",
    "print(f\"Loaded Model Preds : {loaded_model_preds} Actual Model Preds : {y_preds_after_lr}\")\n"
   ]
  }
 ],
 "metadata": {
  "kernelspec": {
   "display_name": "Python 3 (ipykernel)",
   "language": "python",
   "name": "python3"
  },
  "language_info": {
   "codemirror_mode": {
    "name": "ipython",
    "version": 3
   },
   "file_extension": ".py",
   "mimetype": "text/x-python",
   "name": "python",
   "nbconvert_exporter": "python",
   "pygments_lexer": "ipython3",
   "version": "3.9.1"
  },
  "varInspector": {
   "cols": {
    "lenName": 16,
    "lenType": 16,
    "lenVar": 40
   },
   "kernels_config": {
    "python": {
     "delete_cmd_postfix": "",
     "delete_cmd_prefix": "del ",
     "library": "var_list.py",
     "varRefreshCmd": "print(var_dic_list())"
    },
    "r": {
     "delete_cmd_postfix": ") ",
     "delete_cmd_prefix": "rm(",
     "library": "var_list.r",
     "varRefreshCmd": "cat(var_dic_list()) "
    }
   },
   "types_to_exclude": [
    "module",
    "function",
    "builtin_function_or_method",
    "instance",
    "_Feature"
   ],
   "window_display": false
  }
 },
 "nbformat": 4,
 "nbformat_minor": 5
}
